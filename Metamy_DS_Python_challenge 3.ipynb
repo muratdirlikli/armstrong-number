{
 "cells": [
  {
   "cell_type": "markdown",
   "id": "ee1fe05a",
   "metadata": {},
   "source": [
    "# Challenge (Armstrong Number)"
   ]
  },
  {
   "cell_type": "markdown",
   "id": "02ad16b2",
   "metadata": {},
   "source": [
    "**Instructions**\n",
    "\n",
    "- Please find out if a given number is an <code>\"Armstrong Number\"</code>. \n",
    "\n",
    "\n",
    "- An n-digit number that is the sum of the nth powers of its digits is called an n-Armstrong number. \n",
    "\n",
    "\n",
    "- **Examples:**"
   ]
  },
  {
   "attachments": {
    "image.png": {
     "image/png": "[encoded data removed]"
    }
   },
   "cell_type": "markdown",
   "id": "417c7628",
   "metadata": {},
   "source": [
    "![image.png](attachment:image.png)"
   ]
  },
  {
   "cell_type": "markdown",
   "id": "56de41a5",
   "metadata": {},
   "source": [
    "- Write a Python program that;\n",
    "\n",
    "            a. takes a positive integer number from the user,\n",
    "            b. checks the entered number if it is Armstrong,\n",
    "            c. consider the negative, float and any entries other than numeric values then\n",
    "            display a warning message to the user.\n",
    "            \n",
    "\n",
    "- You can use <code>while</code>, <code>for</code> loop, <code>if/elif/else</code> statements, <code>break</code> command, <code>range()</code> function.\n",
    "\n",
    "\n",
    "- Please make a Google search on <code>isdigit() </code>function. You would not believe your eyes how it's helpful.\n",
    "\n",
    "\n",
    "- **Expected output:**\n",
    "\n",
    "407 ---> 407 is an Armstrong number<br>\n",
    "-153 ---> It is an invalid entry. Don't use non-numeric, float, or negative values!<br>\n",
    "153.87 --> It is an invalid entry. Don't use non-numeric, float, or negative values!<br>\n",
    "121 ---> 121 is not an Armstrong number<br>"
   ]
  },
  {
   "cell_type": "markdown",
   "id": "54aabda6",
   "metadata": {},
   "source": [
    "**Solution**"
   ]
  },
  {
   "cell_type": "code",
   "execution_count": 5,
   "id": "c7df1b6b",
   "metadata": {
    "ExecuteTime": {
     "end_time": "2023-11-23T17:35:20.030990Z",
     "start_time": "2023-11-23T17:35:12.125544Z"
    }
   },
   "outputs": [
    {
     "name": "stdout",
     "output_type": "stream",
     "text": [
      "Please enter a number n:9474\n",
      " 9474 is an Armstrong Number\n"
     ]
    }
   ],
   "source": [
    "number = input(\"Please enter a number n:\")\n",
    "while number.isdigit() == True:\n",
    "    summ = 0\n",
    "    for i in number:\n",
    "        new_number = int(i)**len(number)\n",
    "        summ +=new_number\n",
    "        \n",
    "    if summ == int(number):\n",
    "        print(f\" {number} is an Armstrong Number\")\n",
    "    else:\n",
    "        print(f\"{number} is not an Armstrong Number\")\n",
    "    break\n",
    "else:\n",
    "    print(\" It is an invalid entry\")"
   ]
  }
 ],
 "metadata": {
  "hide_input": false,
  "kernelspec": {
   "display_name": "Python 3 (ipykernel)",
   "language": "python",
   "name": "python3"
  },
  "language_info": {
   "codemirror_mode": {
    "name": "ipython",
    "version": 3
   },
   "file_extension": ".py",
   "mimetype": "text/x-python",
   "name": "python",
   "nbconvert_exporter": "python",
   "pygments_lexer": "ipython3",
   "version": "3.11.5"
  },
  "nbTranslate": {
   "displayLangs": [
    "*"
   ],
   "hotkey": "alt-t",
   "langInMainMenu": true,
   "sourceLang": "en",
   "targetLang": "fr",
   "useGoogleTranslate": true
  },
  "toc": {
   "base_numbering": 1,
   "nav_menu": {},
   "number_sections": true,
   "sideBar": true,
   "skip_h1_title": false,
   "title_cell": "Table of Contents",
   "title_sidebar": "Contents",
   "toc_cell": false,
   "toc_position": {},
   "toc_section_display": true,
   "toc_window_display": false
  },
  "varInspector": {
   "cols": {
    "lenName": 16,
    "lenType": 16,
    "lenVar": 40
   },
   "kernels_config": {
    "python": {
     "delete_cmd_postfix": "",
     "delete_cmd_prefix": "del ",
     "library": "var_list.py",
     "varRefreshCmd": "print(var_dic_list())"
    },
    "r": {
     "delete_cmd_postfix": ") ",
     "delete_cmd_prefix": "rm(",
     "library": "var_list.r",
     "varRefreshCmd": "cat(var_dic_list()) "
    }
   },
   "types_to_exclude": [
    "module",
    "function",
    "builtin_function_or_method",
    "instance",
    "_Feature"
   ],
   "window_display": false
  },
  "vp": {
   "vp_config_version": "1.0.0",
   "vp_menu_width": 273,
   "vp_note_display": false,
   "vp_note_width": 0,
   "vp_position": {
    "width": 278
   },
   "vp_section_display": false,
   "vp_signature": "VisualPython"
  }
 },
 "nbformat": 4,
 "nbformat_minor": 5
}
